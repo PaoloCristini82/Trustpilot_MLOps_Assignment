{
 "cells": [
  {
   "cell_type": "markdown",
   "id": "92a02ec6",
   "metadata": {},
   "source": [
    "# Imports"
   ]
  },
  {
   "cell_type": "code",
   "execution_count": 4,
   "id": "24368b9b",
   "metadata": {},
   "outputs": [],
   "source": [
    "# Libraries\n",
    "import pandas as pd\n",
    "from pprint import pprint"
   ]
  },
  {
   "cell_type": "markdown",
   "id": "e2e1c84a",
   "metadata": {},
   "source": [
    "# Visualization"
   ]
  },
  {
   "cell_type": "code",
   "execution_count": 5,
   "id": "dc63053c",
   "metadata": {
    "ExecuteTime": {
     "end_time": "2024-12-05T19:31:09.532504Z",
     "start_time": "2024-12-05T19:31:08.441913Z"
    }
   },
   "outputs": [],
   "source": [
    "# Ingest row data \n",
    "row_df = pd.read_json(\"../data/01_bronze/Books_10k.jsonl\", lines=True)\n"
   ]
  },
  {
   "cell_type": "code",
   "execution_count": 6,
   "id": "54c6cb61",
   "metadata": {},
   "outputs": [
    {
     "data": {
      "text/html": [
       "<div>\n",
       "<style scoped>\n",
       "    .dataframe tbody tr th:only-of-type {\n",
       "        vertical-align: middle;\n",
       "    }\n",
       "\n",
       "    .dataframe tbody tr th {\n",
       "        vertical-align: top;\n",
       "    }\n",
       "\n",
       "    .dataframe thead th {\n",
       "        text-align: right;\n",
       "    }\n",
       "</style>\n",
       "<table border=\"1\" class=\"dataframe\">\n",
       "  <thead>\n",
       "    <tr style=\"text-align: right;\">\n",
       "      <th></th>\n",
       "      <th>rating</th>\n",
       "      <th>title</th>\n",
       "      <th>text</th>\n",
       "      <th>images</th>\n",
       "      <th>asin</th>\n",
       "      <th>parent_asin</th>\n",
       "      <th>user_id</th>\n",
       "      <th>timestamp</th>\n",
       "      <th>helpful_vote</th>\n",
       "      <th>verified_purchase</th>\n",
       "    </tr>\n",
       "  </thead>\n",
       "  <tbody>\n",
       "    <tr>\n",
       "      <th>0</th>\n",
       "      <td>1</td>\n",
       "      <td>Not a watercolor book! Seems like copies imo.</td>\n",
       "      <td>It is definitely not a watercolor book.  The p...</td>\n",
       "      <td>[{'small_image_url': 'https://m.media-amazon.c...</td>\n",
       "      <td>B09BGPFTDB</td>\n",
       "      <td>B09BGPFTDB</td>\n",
       "      <td>AFKZENTNBQ7A7V7UXW5JJI6UGRYQ</td>\n",
       "      <td>2022-01-17 06:06:38.485</td>\n",
       "      <td>0</td>\n",
       "      <td>True</td>\n",
       "    </tr>\n",
       "    <tr>\n",
       "      <th>1</th>\n",
       "      <td>1</td>\n",
       "      <td>Missing the sketch pad</td>\n",
       "      <td>Missing the sketch pad. Even worse I realized ...</td>\n",
       "      <td>[]</td>\n",
       "      <td>1631591290</td>\n",
       "      <td>1631591290</td>\n",
       "      <td>AFKZENTNBQ7A7V7UXW5JJI6UGRYQ</td>\n",
       "      <td>2021-08-05 04:28:04.910</td>\n",
       "      <td>0</td>\n",
       "      <td>True</td>\n",
       "    </tr>\n",
       "    <tr>\n",
       "      <th>2</th>\n",
       "      <td>1</td>\n",
       "      <td>Crease down entire side of every page!!!</td>\n",
       "      <td>Every page has a crease running the entire len...</td>\n",
       "      <td>[{'small_image_url': 'https://images-na.ssl-im...</td>\n",
       "      <td>1780671067</td>\n",
       "      <td>1780671067</td>\n",
       "      <td>AFKZENTNBQ7A7V7UXW5JJI6UGRYQ</td>\n",
       "      <td>2021-01-26 01:07:03.325</td>\n",
       "      <td>2</td>\n",
       "      <td>True</td>\n",
       "    </tr>\n",
       "    <tr>\n",
       "      <th>3</th>\n",
       "      <td>1</td>\n",
       "      <td>Written From a Lens of Fear.</td>\n",
       "      <td>Only read and believe things you want to see c...</td>\n",
       "      <td>[]</td>\n",
       "      <td>0929385225</td>\n",
       "      <td>0929385225</td>\n",
       "      <td>AG2L7H23R5LLKDKLBEF2Q3L2MVDA</td>\n",
       "      <td>2021-04-05 01:16:52.328</td>\n",
       "      <td>0</td>\n",
       "      <td>False</td>\n",
       "    </tr>\n",
       "    <tr>\n",
       "      <th>4</th>\n",
       "      <td>1</td>\n",
       "      <td>Good if your little one is unsure/scared of th...</td>\n",
       "      <td>My little one just likes doctors so I thought ...</td>\n",
       "      <td>[]</td>\n",
       "      <td>0593426452</td>\n",
       "      <td>0593426452</td>\n",
       "      <td>AE74DYR3QUGVPZJ3P7RFWBGIX7XQ</td>\n",
       "      <td>2022-03-18 04:24:46.871</td>\n",
       "      <td>1</td>\n",
       "      <td>True</td>\n",
       "    </tr>\n",
       "  </tbody>\n",
       "</table>\n",
       "</div>"
      ],
      "text/plain": [
       "   rating                                              title  \\\n",
       "0       1      Not a watercolor book! Seems like copies imo.   \n",
       "1       1                             Missing the sketch pad   \n",
       "2       1           Crease down entire side of every page!!!   \n",
       "3       1                       Written From a Lens of Fear.   \n",
       "4       1  Good if your little one is unsure/scared of th...   \n",
       "\n",
       "                                                text  \\\n",
       "0  It is definitely not a watercolor book.  The p...   \n",
       "1  Missing the sketch pad. Even worse I realized ...   \n",
       "2  Every page has a crease running the entire len...   \n",
       "3  Only read and believe things you want to see c...   \n",
       "4  My little one just likes doctors so I thought ...   \n",
       "\n",
       "                                              images        asin parent_asin  \\\n",
       "0  [{'small_image_url': 'https://m.media-amazon.c...  B09BGPFTDB  B09BGPFTDB   \n",
       "1                                                 []  1631591290  1631591290   \n",
       "2  [{'small_image_url': 'https://images-na.ssl-im...  1780671067  1780671067   \n",
       "3                                                 []  0929385225  0929385225   \n",
       "4                                                 []  0593426452  0593426452   \n",
       "\n",
       "                        user_id               timestamp  helpful_vote  \\\n",
       "0  AFKZENTNBQ7A7V7UXW5JJI6UGRYQ 2022-01-17 06:06:38.485             0   \n",
       "1  AFKZENTNBQ7A7V7UXW5JJI6UGRYQ 2021-08-05 04:28:04.910             0   \n",
       "2  AFKZENTNBQ7A7V7UXW5JJI6UGRYQ 2021-01-26 01:07:03.325             2   \n",
       "3  AG2L7H23R5LLKDKLBEF2Q3L2MVDA 2021-04-05 01:16:52.328             0   \n",
       "4  AE74DYR3QUGVPZJ3P7RFWBGIX7XQ 2022-03-18 04:24:46.871             1   \n",
       "\n",
       "   verified_purchase  \n",
       "0               True  \n",
       "1               True  \n",
       "2               True  \n",
       "3              False  \n",
       "4               True  "
      ]
     },
     "execution_count": 6,
     "metadata": {},
     "output_type": "execute_result"
    }
   ],
   "source": [
    "# First look\n",
    "row_df.head(5)"
   ]
  },
  {
   "cell_type": "code",
   "execution_count": 7,
   "id": "17f2d119",
   "metadata": {},
   "outputs": [
    {
     "name": "stdout",
     "output_type": "stream",
     "text": [
      "Index(['rating', 'title', 'text', 'images', 'asin', 'parent_asin', 'user_id',\n",
      "       'timestamp', 'helpful_vote', 'verified_purchase'],\n",
      "      dtype='object')\n"
     ]
    }
   ],
   "source": [
    "# Print columns names\n",
    "pprint(row_df.columns)"
   ]
  },
  {
   "cell_type": "code",
   "execution_count": 8,
   "id": "a11bc933",
   "metadata": {},
   "outputs": [
    {
     "data": {
      "text/html": [
       "<div>\n",
       "<style scoped>\n",
       "    .dataframe tbody tr th:only-of-type {\n",
       "        vertical-align: middle;\n",
       "    }\n",
       "\n",
       "    .dataframe tbody tr th {\n",
       "        vertical-align: top;\n",
       "    }\n",
       "\n",
       "    .dataframe thead th {\n",
       "        text-align: right;\n",
       "    }\n",
       "</style>\n",
       "<table border=\"1\" class=\"dataframe\">\n",
       "  <thead>\n",
       "    <tr style=\"text-align: right;\">\n",
       "      <th></th>\n",
       "      <th>rating</th>\n",
       "      <th>title</th>\n",
       "      <th>text</th>\n",
       "      <th>helpful_vote</th>\n",
       "      <th>verified_purchase</th>\n",
       "    </tr>\n",
       "  </thead>\n",
       "  <tbody>\n",
       "    <tr>\n",
       "      <th>0</th>\n",
       "      <td>1</td>\n",
       "      <td>Not a watercolor book! Seems like copies imo.</td>\n",
       "      <td>It is definitely not a watercolor book.  The p...</td>\n",
       "      <td>0</td>\n",
       "      <td>True</td>\n",
       "    </tr>\n",
       "    <tr>\n",
       "      <th>1</th>\n",
       "      <td>1</td>\n",
       "      <td>Missing the sketch pad</td>\n",
       "      <td>Missing the sketch pad. Even worse I realized ...</td>\n",
       "      <td>0</td>\n",
       "      <td>True</td>\n",
       "    </tr>\n",
       "    <tr>\n",
       "      <th>2</th>\n",
       "      <td>1</td>\n",
       "      <td>Crease down entire side of every page!!!</td>\n",
       "      <td>Every page has a crease running the entire len...</td>\n",
       "      <td>2</td>\n",
       "      <td>True</td>\n",
       "    </tr>\n",
       "    <tr>\n",
       "      <th>3</th>\n",
       "      <td>1</td>\n",
       "      <td>Written From a Lens of Fear.</td>\n",
       "      <td>Only read and believe things you want to see c...</td>\n",
       "      <td>0</td>\n",
       "      <td>False</td>\n",
       "    </tr>\n",
       "    <tr>\n",
       "      <th>4</th>\n",
       "      <td>1</td>\n",
       "      <td>Good if your little one is unsure/scared of th...</td>\n",
       "      <td>My little one just likes doctors so I thought ...</td>\n",
       "      <td>1</td>\n",
       "      <td>True</td>\n",
       "    </tr>\n",
       "  </tbody>\n",
       "</table>\n",
       "</div>"
      ],
      "text/plain": [
       "   rating                                              title  \\\n",
       "0       1      Not a watercolor book! Seems like copies imo.   \n",
       "1       1                             Missing the sketch pad   \n",
       "2       1           Crease down entire side of every page!!!   \n",
       "3       1                       Written From a Lens of Fear.   \n",
       "4       1  Good if your little one is unsure/scared of th...   \n",
       "\n",
       "                                                text  helpful_vote  \\\n",
       "0  It is definitely not a watercolor book.  The p...             0   \n",
       "1  Missing the sketch pad. Even worse I realized ...             0   \n",
       "2  Every page has a crease running the entire len...             2   \n",
       "3  Only read and believe things you want to see c...             0   \n",
       "4  My little one just likes doctors so I thought ...             1   \n",
       "\n",
       "   verified_purchase  \n",
       "0               True  \n",
       "1               True  \n",
       "2               True  \n",
       "3              False  \n",
       "4               True  "
      ]
     },
     "execution_count": 8,
     "metadata": {},
     "output_type": "execute_result"
    }
   ],
   "source": [
    "# Filter out for fields surely not useful\n",
    "potentially_useful_fields_list = [\n",
    "    'rating',\n",
    "    'title',\n",
    "    'text',\n",
    "    'helpful_vote',\n",
    "    'verified_purchase'\n",
    "]\n",
    "\n",
    "df = row_df[potentially_useful_fields_list]\n",
    "df.head(5)"
   ]
  },
  {
   "cell_type": "code",
   "execution_count": 9,
   "id": "ff980b5b",
   "metadata": {},
   "outputs": [
    {
     "name": "stdout",
     "output_type": "stream",
     "text": [
      "rating\n",
      "[1 5 4 3 2]\n",
      "helpful_vote\n",
      "[   0    2    1    4   14  162   10    3    8   11    5   44   13   62\n",
      "   60    7    6   86   29   28   12    9   25   17  100   15   53   39\n",
      "   35   33 3580   16 1154   18   30  296   48   36   54   85  272  109\n",
      "   98   32   69   92   64   26   21   20   57  176   34   22  128   23\n",
      "   19   37   24   38  298  900   41   46   45  155  447   43   66   70\n",
      "   83  326   27   31   40  113   73  153   67  195   75   59   94   58\n",
      "  330  102  114  121  143   81  126   47   52  283   65  424   78  115\n",
      "   97  111   79   56   77  132   51   61  134  167  164   99  116  335\n",
      "   42  293  137   49  146  101   55   50  255  142  259  105   90  200]\n",
      "verified_purchase\n",
      "[ True False]\n"
     ]
    }
   ],
   "source": [
    "# Looking at variety\n",
    "no_string_fields_list = df.select_dtypes(exclude='object').columns\n",
    "\n",
    "for field in no_string_fields_list:\n",
    "    print(field)\n",
    "    print(df[field].unique())"
   ]
  },
  {
   "cell_type": "code",
   "execution_count": 10,
   "id": "2bb57dc8",
   "metadata": {},
   "outputs": [
    {
     "name": "stdout",
     "output_type": "stream",
     "text": [
      "rating\n",
      "        verified_purchase\n",
      "rating                   \n",
      "1                    2000\n",
      "2                    2000\n",
      "3                    2000\n",
      "4                    2000\n",
      "5                    2000\n",
      "verified_purchase\n",
      "                   rating\n",
      "verified_purchase        \n",
      "False                5228\n",
      "True                 4772\n"
     ]
    }
   ],
   "source": [
    "# Look at frequency\n",
    "freq_fields_list = [\n",
    "    'rating',\n",
    "    'verified_purchase'\n",
    "]\n",
    "\n",
    "for field in freq_fields_list:\n",
    "    print(field)\n",
    "    print(df[freq_fields_list].groupby(field).count())"
   ]
  },
  {
   "cell_type": "markdown",
   "id": "9dfca3f8",
   "metadata": {},
   "source": []
  },
  {
   "cell_type": "code",
   "execution_count": 11,
   "id": "18bdb508",
   "metadata": {},
   "outputs": [
    {
     "name": "stdout",
     "output_type": "stream",
     "text": [
      "rating  verified_purchase\n",
      "1       False                 728\n",
      "        True                 1272\n",
      "2       False                 916\n",
      "        True                 1084\n",
      "3       False                1202\n",
      "        True                  798\n",
      "4       False                1607\n",
      "        True                  393\n",
      "5       False                 775\n",
      "        True                 1225\n",
      "Name: title, dtype: int64\n"
     ]
    }
   ],
   "source": [
    "# Look at correlation\n",
    "print(\n",
    "    df\n",
    "        .groupby(\n",
    "            freq_fields_list,\n",
    "            sort=True)\n",
    "        .count()\n",
    "        .iloc[:, 0]\n",
    ")"
   ]
  }
 ],
 "metadata": {
  "kernelspec": {
   "display_name": "Trustpilot_MLOps_Assignment",
   "language": "python",
   "name": "python3"
  },
  "language_info": {
   "codemirror_mode": {
    "name": "ipython",
    "version": 3
   },
   "file_extension": ".py",
   "mimetype": "text/x-python",
   "name": "python",
   "nbconvert_exporter": "python",
   "pygments_lexer": "ipython3",
   "version": "3.12.8"
  },
  "toc": {
   "base_numbering": 1,
   "nav_menu": {},
   "number_sections": true,
   "sideBar": true,
   "skip_h1_title": true,
   "title_cell": "Table of Contents",
   "title_sidebar": "Contents",
   "toc_cell": false,
   "toc_position": {
    "height": "calc(100% - 180px)",
    "left": "10px",
    "top": "150px",
    "width": "165px"
   },
   "toc_section_display": true,
   "toc_window_display": true
  },
  "varInspector": {
   "cols": {
    "lenName": 16,
    "lenType": 16,
    "lenVar": 40
   },
   "kernels_config": {
    "python": {
     "delete_cmd_postfix": "",
     "delete_cmd_prefix": "del ",
     "library": "var_list.py",
     "varRefreshCmd": "print(var_dic_list())"
    },
    "r": {
     "delete_cmd_postfix": ") ",
     "delete_cmd_prefix": "rm(",
     "library": "var_list.r",
     "varRefreshCmd": "cat(var_dic_list()) "
    }
   },
   "types_to_exclude": [
    "module",
    "function",
    "builtin_function_or_method",
    "instance",
    "_Feature"
   ],
   "window_display": false
  }
 },
 "nbformat": 4,
 "nbformat_minor": 5
}
